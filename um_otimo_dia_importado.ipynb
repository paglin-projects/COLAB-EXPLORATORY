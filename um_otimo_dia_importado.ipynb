{
  "nbformat": 4,
  "nbformat_minor": 0,
  "metadata": {
    "colab": {
      "provenance": []
    },
    "kernelspec": {
      "name": "python3",
      "display_name": "Python 3"
    },
    "language_info": {
      "name": "python"
    }
  },
  "cells": [
    {
      "cell_type": "code",
      "source": [
        "# prompt: capture a variavel 'message' e salve um arquivo txt no google drive\n",
        "\n",
        "message = \"olá tenha um otimo dia\" # 'print()' displays output, it doesn't return a value. We need to assign a string to the variable.\n",
        "\n",
        "from google.colab import drive\n",
        "drive.mount('/content/drive')\n",
        "\n",
        "with open('/content/drive/My Drive/message.txt', 'w') as f:\n",
        "  f.write(message)\n"
      ],
      "metadata": {
        "colab": {
          "base_uri": "https://localhost:8080/"
        },
        "id": "-Hlldz1VrhZn",
        "outputId": "91ad1d5a-5f90-49f0-95e7-a10802911a41"
      },
      "execution_count": 2,
      "outputs": [
        {
          "output_type": "stream",
          "name": "stdout",
          "text": [
            "Mounted at /content/drive\n"
          ]
        }
      ]
    }
  ]
}